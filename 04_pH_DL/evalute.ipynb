{
 "cells": [
  {
   "cell_type": "code",
   "execution_count": null,
   "id": "b9954614-96f5-4ee4-ae12-964a9a7975e3",
   "metadata": {},
   "outputs": [],
   "source": []
  },
  {
   "cell_type": "code",
   "execution_count": 2,
   "id": "1e5e8e68-e77f-4d06-b72a-61780ad70454",
   "metadata": {},
   "outputs": [],
   "source": [
    "import os, glob, cv2\n",
    "import numpy as np\n",
    "import pandas as pd\n",
    "import matplotlib.pyplot as plt\n",
    "\n",
    "os.environ[\"CUDA_VISIBLE_DEVICES\"] = \"7\"\n",
    "import keras\n",
    "from keras.layers import Input\n",
    "from keras.applications.resnet50 import ResNet50, preprocess_input\n",
    "from keras.applications import DenseNet121, InceptionV3, VGG16, VGG19\n",
    "from keras.models import Model\n",
    "from keras.layers import Dense, GlobalAveragePooling2D\n",
    "from keras.preprocessing.image import ImageDataGenerator\n",
    "from keras.optimizers import Adam\n",
    "from keras.callbacks import ModelCheckpoint,LearningRateScheduler, EarlyStopping, ReduceLROnPlateau\n",
    "from keras.optimizers import SGD\n",
    "from keras.utils import multi_gpu_model\n",
    "from sklearn.metrics import mean_squared_error, mean_absolute_error\n",
    "import matplotlib.ticker as ticker\n"
   ]
  },
  {
   "cell_type": "code",
   "execution_count": 17,
   "id": "040e9930-866e-42ab-98b5-78eae34a04ae",
   "metadata": {},
   "outputs": [
    {
     "name": "stdout",
     "output_type": "stream",
     "text": [
      "******************************\n",
      "Load data\n",
      "******************************\n",
      "Date_pH_1.13\n",
      "Date_pH_10.2\n",
      "Date_pH_11.43\n",
      "Date_pH_2.38\n",
      "Date_pH_3.05\n",
      "Date_pH_4.01\n",
      "Date_pH_5.07\n",
      "Date_pH_6.02\n",
      "Date_pH_7.00\n",
      "Date_pH_8.02\n",
      "Date_pH_9.22\n",
      "(165, 224, 224, 3) (165,)\n"
     ]
    }
   ],
   "source": [
    "PATH = './01_data/pH_data_aug/'\n",
    "label_folder = os.listdir(PATH)\n",
    "label_li = [int(float(l.split('_')[-1])) for l in label_folder if not 'csv' in l]\n",
    "\n",
    "row, col = 224,224\n",
    "img_path_li = list()\n",
    "data_img = [[],[],[]]\n",
    "data_label = [[],[],[]]\n",
    "\n",
    "print('*'*30)\n",
    "print('Load data')\n",
    "print('*'*30)\n",
    "for label_path in label_folder:\n",
    "        print(label_path)\n",
    "        label = float(label_path.split('_')[-1])\n",
    "        img_path_tmp = sorted(glob.glob(PATH+label_path+'/*'))\n",
    "    #     print('test')\n",
    "        for path in img_path_tmp[-15:]:\n",
    "    #         print(path)\n",
    "            img = cv2.resize(cv2.imread(path), (row, col))\n",
    "            data_img[2].append(img)\n",
    "            data_label[2].append(label)\n",
    "        \n",
    "test_x, test_y = np.array(data_img[2]), np.array(data_label[2])\n",
    "\n",
    "test_x=preprocess_input(test_x)\n",
    "# test_y = test_y/200\n",
    "print(test_x.shape, test_y.shape)\n"
   ]
  },
  {
   "cell_type": "code",
   "execution_count": 18,
   "id": "631a43ca-53ff-4f7a-a98c-2c5484dcc701",
   "metadata": {},
   "outputs": [
    {
     "name": "stdout",
     "output_type": "stream",
     "text": [
      "******************************\n",
      "Best model evaluate\n",
      "******************************\n",
      "6/6 [==============================] - 6s 1s/step - loss: 0.2053 - mean_absolute_error: 0.2053 - mean_squared_error: 0.0697\n",
      "[0.2053169459104538, 0.2053169459104538, 0.06965170800685883]\n",
      "MSE: 0.0697\n",
      "MAE: 0.2053\n"
     ]
    }
   ],
   "source": [
    "model_name = 'exp2_mae_nor_224_vgg16_pH'\n",
    "\n",
    "# model = keras.models.load_model('./{}.h5'.format(model_name))\n",
    "# ypred = model.predict(test_x)\n",
    "# print(model.evaluate(test_x, test_y))\n",
    "# print(\"MSE: %.4f\" % mean_squared_error(test_y, ypred))\n",
    "# print(\"MAE: %.4f\" % mean_absolute_error(test_y, ypred))\n",
    "\n",
    "\n",
    "print('*'*30)\n",
    "print('Best model evaluate')\n",
    "print('*'*30)\n",
    "model_best = keras.models.load_model('./{}.h5'.format(model_name))\n",
    "ypred_best = model_best.predict(test_x, batch_size=1)\n",
    "print(model_best.evaluate(test_x, test_y))\n",
    "print(\"MSE: %.4f\" % mean_squared_error(test_y, ypred_best))\n",
    "print(\"MAE: %.4f\" % mean_absolute_error(test_y, ypred_best))"
   ]
  },
  {
   "cell_type": "code",
   "execution_count": 20,
   "id": "148006ca-ad90-4337-8e22-c0c413510b3e",
   "metadata": {},
   "outputs": [
    {
     "name": "stderr",
     "output_type": "stream",
     "text": [
      "/home/user/miniconda3/envs/gipyo/lib/python3.6/site-packages/ipykernel_launcher.py:6: MatplotlibDeprecationWarning: Adding an axes using the same arguments as a previous axes currently reuses the earlier instance.  In a future version, a new instance will always be created and returned.  Meanwhile, this warning can be suppressed, and the future behavior ensured, by passing a unique label to each axes instance.\n",
      "  \n"
     ]
    },
    {
     "data": {
      "image/png": "[encoded data removed]",
      "text/plain": [
       "<Figure size 720x720 with 1 Axes>"
      ]
     },
     "metadata": {
      "needs_background": "light"
     },
     "output_type": "display_data"
    }
   ],
   "source": [
    "plt.figure(figsize=(10,10))\n",
    "plt.scatter(test_y.flatten(), test_y.flatten(), alpha=0.6,c='blue', label = 'ground truth')\n",
    "\n",
    "plt.scatter(test_y.flatten(), ypred_best.flatten(), alpha=0.6,c='orange' , label = 'prediction')\n",
    "\n",
    "ax=plt.axes()\n",
    "ax.xaxis.set_major_locator(ticker.MultipleLocator(1))\n",
    "ax.yaxis.set_major_locator(ticker.MultipleLocator(1))\n",
    "\n",
    "plt.xlim([0, 13])\n",
    "plt.ylim([0, 13])\n",
    "plt.title('Test dataset')\n",
    "plt.xlabel('Ground Truth')\n",
    "plt.ylabel('Pred')\n",
    "plt.legend(loc=4)\n",
    "plt.savefig('{}.png'.format(model_name), dpi=300)"
   ]
  },
  {
   "cell_type": "code",
   "execution_count": null,
   "id": "44e1d5bc-86bd-4777-ab0f-fc8b7b8845d4",
   "metadata": {},
   "outputs": [],
   "source": [
    "\n"
   ]
  }
 ],
 "metadata": {
  "kernelspec": {
   "display_name": "Python 3",
   "language": "python",
   "name": "python3"
  },
  "language_info": {
   "codemirror_mode": {
    "name": "ipython",
    "version": 3
   },
   "file_extension": ".py",
   "mimetype": "text/x-python",
   "name": "python",
   "nbconvert_exporter": "python",
   "pygments_lexer": "ipython3",
   "version": "3.6.13"
  }
 },
 "nbformat": 4,
 "nbformat_minor": 5
}
