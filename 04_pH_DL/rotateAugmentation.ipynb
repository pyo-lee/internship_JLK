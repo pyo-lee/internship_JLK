{
 "cells": [
  {
   "cell_type": "code",
   "execution_count": 1,
   "id": "1e4fbcbe-b438-4466-b8cf-c1d1ab533310",
   "metadata": {},
   "outputs": [],
   "source": [
    "import os, glob\n",
    "import cv2\n",
    "import numpy as np\n",
    "from PIL import Image, ImageEnhance, ImageOps, ImageFile\n",
    "import matplotlib.pyplot as plt"
   ]
  },
  {
   "cell_type": "code",
   "execution_count": 2,
   "id": "2503d412-3e59-474f-b1d0-60c130e17f90",
   "metadata": {},
   "outputs": [],
   "source": [
    "def mkfolder(folder):\n",
    "    if not os.path.lexists(folder):\n",
    "        os.makedirs(folder)\n",
    "        \n",
    "def imshow_plt(img):\n",
    "    plt.figure(figsize=(10,10))\n",
    "    plt.imshow(img)\n",
    "    plt.show()\n",
    "    \n",
    "    \n",
    "def randomRotate(img, angle_range):\n",
    "    if len(img.shape)==3:\n",
    "        height, width, channel = img.shape\n",
    "    else:\n",
    "        height, width = img.shape\n",
    "    \n",
    "    \n",
    "#     random_angle = np.random.randint(-angle_range/2, angle_range/2)\n",
    "    random_angle = np.random.uniform(-angle_range/2, angle_range/2)\n",
    "#     print(random_angle)\n",
    "    matrix = cv2.getRotationMatrix2D((width/2, height/2), random_angle, 1)\n",
    "    rotate_img = cv2.warpAffine(img, matrix, (width, height))\n",
    "#     imshow_plt(rotate_img)\n",
    "#     imshow_plt(rotate_label)\n",
    "    \n",
    "    return rotate_img\n"
   ]
  },
  {
   "cell_type": "code",
   "execution_count": 3,
   "id": "71ffe559-c77b-4286-9a67-abf69890de9d",
   "metadata": {
    "tags": []
   },
   "outputs": [
    {
     "name": "stdout",
     "output_type": "stream",
     "text": [
      "******************************\n",
      "Load data\n",
      "******************************\n"
     ]
    }
   ],
   "source": [
    "PATH = './03_preprocess/crop_re/'\n",
    "label_folder = os.listdir(PATH)\n",
    "label_li = [float(l.split('_')[-1]) for l in label_folder]\n",
    "label_folder.sort()\n",
    "print('*'*30)\n",
    "print('Load data')\n",
    "print('*'*30)\n",
    "\n",
    "np.random.seed(1)\n",
    "for label_path in label_folder:\n",
    "    img_path_tmp = sorted(glob.glob(PATH+label_path+'/*'))\n",
    "    for path in img_path_tmp[:-30]:\n",
    "#         print(path)\n",
    "#         imgs.append(cv2.imread(path)) \n",
    "        label = label_path.split('_')[-1]\n",
    "        name = path.split('/')[-1]\n",
    "#         print(name+'_'+label)\n",
    "        img = cv2.imread(path)\n",
    "        \n",
    "        if not os.path.isdir('./01_data/pH_data_aug/'+label_path):\n",
    "            os.makedirs('./01_data/pH_data_aug/'+label_path)\n",
    "        cv2.imwrite('./01_data/pH_data_aug/'+label_path+'/'+name, img)\n",
    "        \n",
    "        for j in range(3):\n",
    "            \n",
    "            rot_img=randomRotate(img, 40)\n",
    "            cv2.imwrite('./01_data/pH_data_aug/'+label_path+'/'+name[:-4]+'_'+str(j)+'.jpg', rot_img)\n",
    "    \n",
    "    for path in img_path_tmp[-30:]:\n",
    "#         print(path)\n",
    "#         imgs.append(cv2.imread(path)) \n",
    "        label = label_path.split('_')[-1]\n",
    "        name = path.split('/')[-1]\n",
    "#         print(name+'_'+label)\n",
    "        img = cv2.imread(path)\n",
    "        cv2.imwrite('./01_data/PPM_data_aug/'+label_path+'/'+name, img)\n"
   ]
  },
  {
   "cell_type": "code",
   "execution_count": 4,
   "id": "a4f2f046-f6e4-47d2-9eb8-ce3c37f2c7c5",
   "metadata": {},
   "outputs": [
    {
     "name": "stdout",
     "output_type": "stream",
     "text": [
      "******************************\n",
      "Load data\n",
      "******************************\n",
      "Date_pH_1.13 452\n",
      "Date_pH_10.2 480\n",
      "Date_pH_11.43 480\n",
      "Date_pH_2.38 480\n",
      "Date_pH_3.05 500\n",
      "Date_pH_4.01 480\n",
      "Date_pH_5.07 480\n",
      "Date_pH_6.02 480\n",
      "Date_pH_7.00 480\n",
      "Date_pH_8.02 480\n",
      "Date_pH_9.22 480\n",
      "all :  5272\n"
     ]
    }
   ],
   "source": [
    "PATH = './01_data/pH_data_aug/'\n",
    "label_folder = os.listdir(PATH)\n",
    "label_li = [float(l.split('_')[-1]) for l in label_folder if not '.' in l]\n",
    "label_folder.sort()\n",
    "print('*'*30)\n",
    "print('Load data')\n",
    "print('*'*30)\n",
    "\n",
    "c=0\n",
    "for label_path in label_folder:\n",
    "    img_path_tmp = sorted(glob.glob(PATH+label_path+'/*'))\n",
    "    print(label_path, len(img_path_tmp))\n",
    "    c+=len(img_path_tmp)\n",
    "print('all : ', c)"
   ]
  },
  {
   "cell_type": "code",
   "execution_count": 5,
   "id": "2afe99de-4caa-4c67-a91c-a8ac6018c584",
   "metadata": {},
   "outputs": [
    {
     "data": {
      "text/plain": [
       "480"
      ]
     },
     "execution_count": 5,
     "metadata": {},
     "output_type": "execute_result"
    }
   ],
   "source": [
    "len(img_path_tmp)"
   ]
  }
 ],
 "metadata": {
  "kernelspec": {
   "display_name": "Python 3",
   "language": "python",
   "name": "python3"
  },
  "language_info": {
   "codemirror_mode": {
    "name": "ipython",
    "version": 3
   },
   "file_extension": ".py",
   "mimetype": "text/x-python",
   "name": "python",
   "nbconvert_exporter": "python",
   "pygments_lexer": "ipython3",
   "version": "3.6.13"
  }
 },
 "nbformat": 4,
 "nbformat_minor": 5
}
