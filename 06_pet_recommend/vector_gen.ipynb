{
 "cells": [
  {
   "cell_type": "code",
   "execution_count": 154,
   "id": "51c26f35-860d-4b37-97f7-c28e8c09ed2e",
   "metadata": {},
   "outputs": [],
   "source": [
    "import numpy as np\n",
    "import pandas as pd"
   ]
  },
  {
   "cell_type": "code",
   "execution_count": 159,
   "id": "b303b918-6d1a-4051-b68d-5f83b0608f37",
   "metadata": {
    "tags": []
   },
   "outputs": [],
   "source": [
    "df = pd.read_excel('./data.xlsx', sheet_name=3, engine='openpyxl')\n",
    "df = df.loc[:, ~df.columns.str.contains('^Unnamed')]"
   ]
  },
  {
   "cell_type": "code",
   "execution_count": 160,
   "id": "e91ea880-8a87-4117-8c51-7e9a9f338fe5",
   "metadata": {},
   "outputs": [],
   "source": [
    "df2 = df.drop(['고유번호', '주소', '입장가능반려동물'], axis=1).fillna('None')\n",
    "df2 = df2.replace(['폐업'], 'None')\n",
    "# df3 = df2['편의시설'].dropna()"
   ]
  },
  {
   "cell_type": "code",
   "execution_count": 161,
   "id": "9c6f2a00-aed9-4c7d-9d40-0577e03b142e",
   "metadata": {},
   "outputs": [
    {
     "data": {
      "text/html": [
       "<div>\n",
       "<style scoped>\n",
       "    .dataframe tbody tr th:only-of-type {\n",
       "        vertical-align: middle;\n",
       "    }\n",
       "\n",
       "    .dataframe tbody tr th {\n",
       "        vertical-align: top;\n",
       "    }\n",
       "\n",
       "    .dataframe thead th {\n",
       "        text-align: right;\n",
       "    }\n",
       "</style>\n",
       "<table border=\"1\" class=\"dataframe\">\n",
       "  <thead>\n",
       "    <tr style=\"text-align: right;\">\n",
       "      <th></th>\n",
       "      <th>상호명</th>\n",
       "      <th>카테고리1</th>\n",
       "      <th>카테고리2</th>\n",
       "      <th>카테고리3</th>\n",
       "      <th>입장가능공간</th>\n",
       "      <th>편의시설</th>\n",
       "      <th>추천태그</th>\n",
       "    </tr>\n",
       "  </thead>\n",
       "  <tbody>\n",
       "    <tr>\n",
       "      <th>0</th>\n",
       "      <td>캠핑웨</td>\n",
       "      <td>캠핑/글램핑</td>\n",
       "      <td>None</td>\n",
       "      <td>None</td>\n",
       "      <td>None</td>\n",
       "      <td>None</td>\n",
       "      <td>None</td>\n",
       "    </tr>\n",
       "    <tr>\n",
       "      <th>1</th>\n",
       "      <td>카페개내</td>\n",
       "      <td>여행/관광지</td>\n",
       "      <td>None</td>\n",
       "      <td>None</td>\n",
       "      <td>None</td>\n",
       "      <td>None</td>\n",
       "      <td>None</td>\n",
       "    </tr>\n",
       "    <tr>\n",
       "      <th>2</th>\n",
       "      <td>타코벨 강남점</td>\n",
       "      <td>음식점</td>\n",
       "      <td>None</td>\n",
       "      <td>None</td>\n",
       "      <td>None</td>\n",
       "      <td>None</td>\n",
       "      <td>None</td>\n",
       "    </tr>\n",
       "    <tr>\n",
       "      <th>3</th>\n",
       "      <td>펫베베</td>\n",
       "      <td>애견호텔</td>\n",
       "      <td>None</td>\n",
       "      <td>None</td>\n",
       "      <td>None</td>\n",
       "      <td>None</td>\n",
       "      <td>None</td>\n",
       "    </tr>\n",
       "    <tr>\n",
       "      <th>4</th>\n",
       "      <td>서초동물병원</td>\n",
       "      <td>동물병원</td>\n",
       "      <td>None</td>\n",
       "      <td>None</td>\n",
       "      <td>전체</td>\n",
       "      <td>주차가능,반려동물용품</td>\n",
       "      <td>서울동물병원,서초동물병원,서울애견미용,서초애견미용,서울애견호텔,서초애견호텔,반려동물...</td>\n",
       "    </tr>\n",
       "    <tr>\n",
       "      <th>...</th>\n",
       "      <td>...</td>\n",
       "      <td>...</td>\n",
       "      <td>...</td>\n",
       "      <td>...</td>\n",
       "      <td>...</td>\n",
       "      <td>...</td>\n",
       "      <td>...</td>\n",
       "    </tr>\n",
       "    <tr>\n",
       "      <th>5904</th>\n",
       "      <td>None</td>\n",
       "      <td>None</td>\n",
       "      <td>None</td>\n",
       "      <td>None</td>\n",
       "      <td>None</td>\n",
       "      <td>None</td>\n",
       "      <td>None</td>\n",
       "    </tr>\n",
       "    <tr>\n",
       "      <th>5905</th>\n",
       "      <td>None</td>\n",
       "      <td>None</td>\n",
       "      <td>None</td>\n",
       "      <td>None</td>\n",
       "      <td>None</td>\n",
       "      <td>None</td>\n",
       "      <td>None</td>\n",
       "    </tr>\n",
       "    <tr>\n",
       "      <th>5906</th>\n",
       "      <td>None</td>\n",
       "      <td>None</td>\n",
       "      <td>None</td>\n",
       "      <td>None</td>\n",
       "      <td>None</td>\n",
       "      <td>None</td>\n",
       "      <td>None</td>\n",
       "    </tr>\n",
       "    <tr>\n",
       "      <th>5907</th>\n",
       "      <td>None</td>\n",
       "      <td>None</td>\n",
       "      <td>None</td>\n",
       "      <td>None</td>\n",
       "      <td>None</td>\n",
       "      <td>None</td>\n",
       "      <td>None</td>\n",
       "    </tr>\n",
       "    <tr>\n",
       "      <th>5908</th>\n",
       "      <td>None</td>\n",
       "      <td>None</td>\n",
       "      <td>None</td>\n",
       "      <td>None</td>\n",
       "      <td>None</td>\n",
       "      <td>None</td>\n",
       "      <td>None</td>\n",
       "    </tr>\n",
       "  </tbody>\n",
       "</table>\n",
       "<p>5909 rows × 7 columns</p>\n",
       "</div>"
      ],
      "text/plain": [
       "          상호명   카테고리1 카테고리2 카테고리3 입장가능공간         편의시설  \\\n",
       "0         캠핑웨  캠핑/글램핑  None  None   None         None   \n",
       "1        카페개내  여행/관광지  None  None   None         None   \n",
       "2     타코벨 강남점     음식점  None  None   None         None   \n",
       "3         펫베베    애견호텔  None  None   None         None   \n",
       "4      서초동물병원    동물병원  None  None     전체  주차가능,반려동물용품   \n",
       "...       ...     ...   ...   ...    ...          ...   \n",
       "5904     None    None  None  None   None         None   \n",
       "5905     None    None  None  None   None         None   \n",
       "5906     None    None  None  None   None         None   \n",
       "5907     None    None  None  None   None         None   \n",
       "5908     None    None  None  None   None         None   \n",
       "\n",
       "                                                   추천태그  \n",
       "0                                                  None  \n",
       "1                                                  None  \n",
       "2                                                  None  \n",
       "3                                                  None  \n",
       "4     서울동물병원,서초동물병원,서울애견미용,서초애견미용,서울애견호텔,서초애견호텔,반려동물...  \n",
       "...                                                 ...  \n",
       "5904                                               None  \n",
       "5905                                               None  \n",
       "5906                                               None  \n",
       "5907                                               None  \n",
       "5908                                               None  \n",
       "\n",
       "[5909 rows x 7 columns]"
      ]
     },
     "execution_count": 161,
     "metadata": {},
     "output_type": "execute_result"
    }
   ],
   "source": [
    "df2"
   ]
  },
  {
   "cell_type": "code",
   "execution_count": 162,
   "id": "65b693fc-4380-45a1-addf-40c67769f14b",
   "metadata": {},
   "outputs": [],
   "source": [
    "df2.to_csv('vector_before.csv', index=False, encoding=\"utf-8-sig\")"
   ]
  },
  {
   "cell_type": "code",
   "execution_count": 14,
   "id": "41647cb4-3d14-4432-bc34-c5459f389a2e",
   "metadata": {},
   "outputs": [],
   "source": []
  },
  {
   "cell_type": "code",
   "execution_count": 163,
   "id": "29fd622d-f461-417f-9f86-16e20d8f22fb",
   "metadata": {
    "tags": []
   },
   "outputs": [],
   "source": [
    "dfs = np.split(df2, [1], axis=1)\n",
    "\n",
    "data_key_li = list()\n",
    "data_li = list()\n",
    "data_name_li = list()\n",
    "for i in range(len(dfs[1])):\n",
    "# for i in range(len(df2)):\n",
    "#     print(dfs[1].iloc[i])\n",
    "    \n",
    "    tmp = list()\n",
    "#     for j in df2.iloc[i]:\n",
    "#     print(dfs[0].iloc[i])\n",
    "    for j in dfs[1].iloc[i]:\n",
    "        \n",
    "        if j!='None':\n",
    "            \n",
    "            if type(j)==str:\n",
    "\n",
    "                if ',' in j:\n",
    "                    if '실내' in j and '실외' in j:\n",
    "                        tmp.append(j)\n",
    "                    else:\n",
    "                        tmp_ = j.split(',')\n",
    "                        for tt in tmp_:\n",
    "                            tmp.append(tt)\n",
    "                            data_key_li.append(tt)\n",
    "                else:\n",
    "                    tmp.append(j)\n",
    "                    data_key_li.append(j)\n",
    "            else:\n",
    "                tmp.append(j)\n",
    "                data_key_li.append(j)\n",
    "        else:\n",
    "            continue\n",
    "    if len(tmp)>1:\n",
    "        data_li.append(tmp)\n",
    "        data_name_li.append(dfs[0].iloc[i][0])"
   ]
  },
  {
   "cell_type": "code",
   "execution_count": 164,
   "id": "d10f2ccf-2553-4429-9a4a-d792c3cf2224",
   "metadata": {},
   "outputs": [],
   "source": [
    "word2index = {}\n",
    "for voca in data_key_li:\n",
    "    if voca not in word2index:\n",
    "        word2index[voca] = len(word2index)\n",
    "#         print(word2index) "
   ]
  },
  {
   "cell_type": "code",
   "execution_count": null,
   "id": "ab6f79ef-7c8e-4f80-93a9-150b75afdf5f",
   "metadata": {},
   "outputs": [],
   "source": []
  },
  {
   "cell_type": "code",
   "execution_count": 165,
   "id": "56486fd1-73a4-4f44-b096-866120f8ea0a",
   "metadata": {},
   "outputs": [],
   "source": [
    "for i in range(len(list(word2index.keys()))-len(data_name_li)):\n",
    "    data_name_li.append('None')\n",
    "    "
   ]
  },
  {
   "cell_type": "code",
   "execution_count": 166,
   "id": "2f2bede1-a58f-44e7-b35f-54fe24bccf2d",
   "metadata": {},
   "outputs": [],
   "source": [
    "data_df = pd.DataFrame(0,index=data_name_li,columns=list(word2index.keys()))"
   ]
  },
  {
   "cell_type": "code",
   "execution_count": 168,
   "id": "72d79bc3-17bd-42f0-b2e6-63214def2409",
   "metadata": {
    "tags": []
   },
   "outputs": [],
   "source": [
    "for d in range(len(data_li)):\n",
    "    \n",
    "#     print(d)\n",
    "    for c in data_li[d][1:]:\n",
    "        data_df.rename(index={str(d):data_li[0]})\n",
    "        data_df.iloc[d][c]=1"
   ]
  },
  {
   "cell_type": "code",
   "execution_count": 169,
   "id": "802dbe18-0197-4bec-9f64-8584d09ed3c8",
   "metadata": {},
   "outputs": [],
   "source": [
    "data_df.to_csv('vector.csv', index=False, encoding=\"utf-8-sig\")"
   ]
  }
 ],
 "metadata": {
  "kernelspec": {
   "display_name": "Python 3",
   "language": "python",
   "name": "python3"
  },
  "language_info": {
   "codemirror_mode": {
    "name": "ipython",
    "version": 3
   },
   "file_extension": ".py",
   "mimetype": "text/x-python",
   "name": "python",
   "nbconvert_exporter": "python",
   "pygments_lexer": "ipython3",
   "version": "3.6.13"
  }
 },
 "nbformat": 4,
 "nbformat_minor": 5
}
