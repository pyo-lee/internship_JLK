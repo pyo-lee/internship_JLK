{
 "cells": [
  {
   "cell_type": "code",
   "execution_count": null,
   "id": "b9954614-96f5-4ee4-ae12-964a9a7975e3",
   "metadata": {},
   "outputs": [],
   "source": []
  },
  {
   "cell_type": "code",
   "execution_count": 22,
   "id": "1e5e8e68-e77f-4d06-b72a-61780ad70454",
   "metadata": {},
   "outputs": [],
   "source": [
    "import os, glob, cv2\n",
    "import numpy as np\n",
    "import pandas as pd\n",
    "import matplotlib.pyplot as plt\n",
    "\n",
    "os.environ[\"CUDA_VISIBLE_DEVICES\"] = \"7\"\n",
    "import keras\n",
    "from keras.layers import Input\n",
    "from keras.applications.resnet50 import ResNet50, preprocess_input\n",
    "from keras.applications import DenseNet121, InceptionV3, VGG16, VGG19\n",
    "from keras.models import Model\n",
    "from keras.layers import Dense, GlobalAveragePooling2D\n",
    "from keras.preprocessing.image import ImageDataGenerator\n",
    "from keras.optimizers import Adam\n",
    "from keras.callbacks import ModelCheckpoint,LearningRateScheduler, EarlyStopping, ReduceLROnPlateau\n",
    "from keras.optimizers import SGD\n",
    "from keras.utils import multi_gpu_model\n",
    "from sklearn.metrics import mean_squared_error, mean_absolute_error\n",
    "import matplotlib.ticker as ticker\n"
   ]
  },
  {
   "cell_type": "code",
   "execution_count": 23,
   "id": "426ab20e-88b2-4311-afb6-8df7919bcb2c",
   "metadata": {},
   "outputs": [
    {
     "data": {
      "text/plain": [
       "'/Data/voucher/GP_Lee/ppm/02_code'"
      ]
     },
     "execution_count": 23,
     "metadata": {},
     "output_type": "execute_result"
    }
   ],
   "source": [
    "pwd"
   ]
  },
  {
   "cell_type": "code",
   "execution_count": 40,
   "id": "040e9930-866e-42ab-98b5-78eae34a04ae",
   "metadata": {},
   "outputs": [
    {
     "name": "stdout",
     "output_type": "stream",
     "text": [
      "******************************\n",
      "Load data\n",
      "******************************\n",
      "(80, 224, 224, 3) (80,)\n"
     ]
    }
   ],
   "source": [
    "PATH = '../01_data/PPM_data_aug/'\n",
    "label_folder = os.listdir(PATH)\n",
    "label_li = [float(l.split('_')[-1]) for l in label_folder if not 'csv' in l]\n",
    "\n",
    "row, col = 224,224\n",
    "img_path_li = list()\n",
    "data_img = [[],[],[]]\n",
    "data_label = [[],[],[]]\n",
    "\n",
    "print('*'*30)\n",
    "print('Load data')\n",
    "print('*'*30)\n",
    "for label_path in label_folder[:-1]:\n",
    "\n",
    "        label = float(label_path.split('_')[-1])\n",
    "        img_path_tmp = sorted(glob.glob(PATH+label_path+'/*'))\n",
    "    #     print('test')\n",
    "        for path in img_path_tmp[-4:]:\n",
    "    #         print(path)\n",
    "            img = cv2.resize(cv2.imread(path), (row, col))\n",
    "            data_img[2].append(img)\n",
    "            data_label[2].append(label)\n",
    "        \n",
    "test_x, test_y = np.array(data_img[2]), np.array(data_label[2])\n",
    "\n",
    "test_x=preprocess_input(test_x)\n",
    "# test_y = test_y/200\n",
    "print(test_x.shape, test_y.shape)\n"
   ]
  },
  {
   "cell_type": "code",
   "execution_count": null,
   "id": "631a43ca-53ff-4f7a-a98c-2c5484dcc701",
   "metadata": {},
   "outputs": [
    {
     "name": "stdout",
     "output_type": "stream",
     "text": [
      "3/3 [==============================] - 3s 900ms/step - loss: 0.6897 - mean_absolute_error: 0.6897 - mean_squared_error: 1.2680\n",
      "[0.6897223591804504, 0.6897223591804504, 1.2680429220199585]\n",
      "MSE: 1.2680\n",
      "MAE: 0.6897\n",
      "******************************\n",
      "Best model evaluate\n",
      "******************************\n",
      "3/3 [==============================] - 3s 944ms/step - loss: 0.6486 - mean_absolute_error: 0.6486 - mean_squared_error: 1.0679\n",
      "[0.6485969424247742, 0.6485969424247742, 1.0679436922073364]\n",
      "MSE: 1.0679\n",
      "MAE: 0.6486\n"
     ]
    }
   ],
   "source": [
    "model_name = 'exp2_mae_nor_224_vgg16'\n",
    "\n",
    "model = keras.models.load_model('../{}.h5'.format(model_name))\n",
    "ypred = model.predict(test_x)\n",
    "print(model.evaluate(test_x, test_y))\n",
    "print(\"MSE: %.4f\" % mean_squared_error(test_y, ypred))\n",
    "print(\"MAE: %.4f\" % mean_absolute_error(test_y, ypred))\n",
    "\n",
    "\n",
    "print('*'*30)\n",
    "print('Best model evaluate')\n",
    "print('*'*30)\n",
    "model_best = keras.models.load_model('../checkpoint/{}.h5'.format(model_name))\n",
    "ypred_best = model_best.predict(test_x, batch_size=1)\n",
    "print(model_best.evaluate(test_x, test_y))\n",
    "print(\"MSE: %.4f\" % mean_squared_error(test_y, ypred_best))\n",
    "print(\"MAE: %.4f\" % mean_absolute_error(test_y, ypred_best))"
   ]
  },
  {
   "cell_type": "code",
   "execution_count": 43,
   "id": "148006ca-ad90-4337-8e22-c0c413510b3e",
   "metadata": {},
   "outputs": [
    {
     "name": "stderr",
     "output_type": "stream",
     "text": [
      "/home/user/miniconda3/envs/gipyo/lib/python3.6/site-packages/ipykernel_launcher.py:6: MatplotlibDeprecationWarning: Adding an axes using the same arguments as a previous axes currently reuses the earlier instance.  In a future version, a new instance will always be created and returned.  Meanwhile, this warning can be suppressed, and the future behavior ensured, by passing a unique label to each axes instance.\n",
      "  \n"
     ]
    },
    {
     "data": {
      "image/png": "[encoded data removed]",
      "text/plain": [
       "<Figure size 720x720 with 1 Axes>"
      ]
     },
     "metadata": {
      "needs_background": "light"
     },
     "output_type": "display_data"
    }
   ],
   "source": [
    "plt.figure(figsize=(10,10))\n",
    "plt.scatter(test_y.flatten(), test_y.flatten(), alpha=0.6,c='blue', label = 'ground truth')\n",
    "\n",
    "plt.scatter(test_y.flatten(), ypred_best.flatten(), alpha=0.6,c='orange' , label = 'prediction')\n",
    "\n",
    "ax=plt.axes()\n",
    "ax.xaxis.set_major_locator(ticker.MultipleLocator(10))\n",
    "ax.yaxis.set_major_locator(ticker.MultipleLocator(10))\n",
    "\n",
    "plt.xlim([-10, 210])\n",
    "plt.ylim([-10, 210])\n",
    "plt.title('Test dataset')\n",
    "plt.xlabel('Ground Truth')\n",
    "plt.ylabel('Pred')\n",
    "plt.legend(loc=4)\n",
    "plt.savefig('{}.png'.format(model_name))"
   ]
  },
  {
   "cell_type": "code",
   "execution_count": 27,
   "id": "524ebdeb-9559-4f32-9017-534069736f6c",
   "metadata": {
    "tags": []
   },
   "outputs": [
    {
     "name": "stdout",
     "output_type": "stream",
     "text": [
      "10.0 [9.782349]\n",
      "10.0 [10.320289]\n",
      "10.0 [10.243773]\n",
      "10.0 [10.25927]\n",
      "100.0 [101.94619]\n",
      "100.0 [101.40396]\n",
      "100.0 [99.89834]\n",
      "100.0 [101.29128]\n",
      "110.0 [109.16771]\n",
      "110.0 [110.17543]\n",
      "110.0 [110.25733]\n",
      "110.0 [111.23]\n",
      "120.0 [118.34909]\n",
      "120.0 [120.58673]\n",
      "120.0 [121.503494]\n",
      "120.0 [120.29717]\n",
      "130.0 [130.63022]\n",
      "130.0 [129.05185]\n",
      "130.0 [127.20845]\n",
      "130.0 [131.55917]\n",
      "140.0 [139.1259]\n",
      "140.0 [139.50365]\n",
      "140.0 [140.15112]\n",
      "140.0 [141.68222]\n",
      "150.0 [150.69112]\n",
      "150.0 [150.24553]\n",
      "150.0 [148.67145]\n",
      "150.0 [149.65114]\n",
      "160.0 [162.18689]\n",
      "160.0 [159.97606]\n",
      "160.0 [158.90617]\n",
      "160.0 [160.86221]\n",
      "170.0 [168.58356]\n",
      "170.0 [169.15498]\n",
      "170.0 [170.16602]\n",
      "170.0 [169.09285]\n",
      "180.0 [179.14828]\n",
      "180.0 [178.68889]\n",
      "180.0 [180.27118]\n",
      "180.0 [178.99977]\n",
      "190.0 [188.57755]\n",
      "190.0 [188.07074]\n",
      "190.0 [189.8374]\n",
      "190.0 [191.18787]\n",
      "20.0 [20.095526]\n",
      "20.0 [20.283884]\n",
      "20.0 [20.113974]\n",
      "20.0 [20.369986]\n",
      "200.0 [199.49907]\n",
      "200.0 [199.44261]\n",
      "200.0 [200.92188]\n",
      "200.0 [200.68137]\n",
      "30.0 [29.7464]\n",
      "30.0 [29.721884]\n",
      "30.0 [29.823246]\n",
      "30.0 [29.565947]\n",
      "40.0 [40.006935]\n",
      "40.0 [39.755905]\n",
      "40.0 [39.74922]\n",
      "40.0 [39.894768]\n",
      "50.0 [50.125477]\n",
      "50.0 [49.221607]\n",
      "50.0 [48.95594]\n",
      "50.0 [49.02578]\n",
      "60.0 [58.795254]\n",
      "60.0 [59.62861]\n",
      "60.0 [59.427048]\n",
      "60.0 [59.27514]\n",
      "70.0 [69.47004]\n",
      "70.0 [69.84938]\n",
      "70.0 [69.09934]\n",
      "70.0 [69.4169]\n",
      "80.0 [80.38634]\n",
      "80.0 [80.55592]\n",
      "80.0 [79.729355]\n",
      "80.0 [79.8838]\n",
      "90.0 [90.47434]\n",
      "90.0 [91.86163]\n",
      "90.0 [90.85974]\n",
      "90.0 [89.03386]\n"
     ]
    }
   ],
   "source": [
    "for i in range(len(test_y)):\n",
    "    print(test_y[i], ypred_best[i])"
   ]
  },
  {
   "cell_type": "code",
   "execution_count": null,
   "id": "44e1d5bc-86bd-4777-ab0f-fc8b7b8845d4",
   "metadata": {},
   "outputs": [],
   "source": []
  }
 ],
 "metadata": {
  "kernelspec": {
   "display_name": "Python 3",
   "language": "python",
   "name": "python3"
  },
  "language_info": {
   "codemirror_mode": {
    "name": "ipython",
    "version": 3
   },
   "file_extension": ".py",
   "mimetype": "text/x-python",
   "name": "python",
   "nbconvert_exporter": "python",
   "pygments_lexer": "ipython3",
   "version": "3.6.13"
  }
 },
 "nbformat": 4,
 "nbformat_minor": 5
}
