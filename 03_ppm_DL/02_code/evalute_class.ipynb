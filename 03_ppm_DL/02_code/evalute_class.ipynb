{
 "cells": [
  {
   "cell_type": "code",
   "execution_count": null,
   "id": "b9954614-96f5-4ee4-ae12-964a9a7975e3",
   "metadata": {},
   "outputs": [],
   "source": []
  },
  {
   "cell_type": "code",
   "execution_count": null,
   "id": "1e5e8e68-e77f-4d06-b72a-61780ad70454",
   "metadata": {},
   "outputs": [],
   "source": [
    "import os, glob, cv2\n",
    "import numpy as np\n",
    "import pandas as pd\n",
    "import matplotlib.pyplot as plt\n",
    "\n",
    "os.environ[\"CUDA_VISIBLE_DEVICES\"] = \"7\"\n",
    "import keras\n",
    "from keras.layers import Input\n",
    "from keras.applications.resnet50 import ResNet50, preprocess_input\n",
    "from keras.applications import DenseNet121, InceptionV3, VGG16, VGG19\n",
    "from keras.models import Model\n",
    "from keras.layers import Dense, GlobalAveragePooling2D\n",
    "from keras.preprocessing.image import ImageDataGenerator\n",
    "from keras.optimizers import Adam\n",
    "from keras.callbacks import ModelCheckpoint,LearningRateScheduler, EarlyStopping, ReduceLROnPlateau\n",
    "from keras.optimizers import SGD\n",
    "from keras.utils import multi_gpu_model\n",
    "from sklearn.metrics import mean_squared_error, mean_absolute_error\n",
    "from keras import backend as K\n",
    "\n",
    "def recall(y_target, y_pred): # sensitivity, recall\n",
    "    # clip(t, clip_value_min, clip_value_max) : clip_value_min~clip_value_max 이외 가장자리를 깎아 낸다\n",
    "    # round : 반올림한다\n",
    "    y_target_yn = K.round(K.clip(y_target, 0, 1)) # 실제값을 0(Negative) 또는 1(Positive)로 설정한다\n",
    "    y_pred_yn = K.round(K.clip(y_pred, 0, 1)) # 예측값을 0(Negative) 또는 1(Positive)로 설정한다\n",
    "\n",
    "    # True Positive는 실제 값과 예측 값이 모두 1(Positive)인 경우이다\n",
    "    count_true_positive = K.sum(y_target_yn * y_pred_yn) \n",
    "\n",
    "    # (True Positive + False Negative) = 실제 값이 1(Positive) 전체\n",
    "    count_true_positive_false_negative = K.sum(y_target_yn)\n",
    "\n",
    "    # Recall =  (True Positive) / (True Positive + False Negative)\n",
    "    # K.epsilon()는 'divide by zero error' 예방차원에서 작은 수를 더한다\n",
    "    recall = count_true_positive / (count_true_positive_false_negative + K.epsilon())\n",
    "\n",
    "    # return a single tensor value\n",
    "    return recall\n",
    "\n"
   ]
  },
  {
   "cell_type": "code",
   "execution_count": null,
   "id": "426ab20e-88b2-4311-afb6-8df7919bcb2c",
   "metadata": {},
   "outputs": [
    {
     "data": {
      "text/plain": [
       "'/Data/voucher/GP_Lee/ppm/02_code'"
      ]
     },
     "execution_count": 33,
     "metadata": {},
     "output_type": "execute_result"
    }
   ],
   "source": [
    "pwd"
   ]
  },
  {
   "cell_type": "code",
   "execution_count": null,
   "id": "bab18581-9ee6-4511-9892-79b4897207e6",
   "metadata": {},
   "outputs": [
    {
     "ename": "ValueError",
     "evalue": "could not convert string to float: '10.jpg'",
     "output_type": "error",
     "traceback": [
      "\u001b[0;31m---------------------------------------------------------------------------\u001b[0m",
      "\u001b[0;31mValueError\u001b[0m                                Traceback (most recent call last)",
      "\u001b[0;32m<ipython-input-34-21af25e1f7f0>\u001b[0m in \u001b[0;36m<module>\u001b[0;34m\u001b[0m\n\u001b[1;32m      1\u001b[0m \u001b[0mPATH\u001b[0m \u001b[0;34m=\u001b[0m \u001b[0;34m'../04_final_model/example_pre2/'\u001b[0m\u001b[0;34m\u001b[0m\u001b[0;34m\u001b[0m\u001b[0m\n\u001b[1;32m      2\u001b[0m \u001b[0mlabel_folder\u001b[0m \u001b[0;34m=\u001b[0m \u001b[0mos\u001b[0m\u001b[0;34m.\u001b[0m\u001b[0mlistdir\u001b[0m\u001b[0;34m(\u001b[0m\u001b[0mPATH\u001b[0m\u001b[0;34m)\u001b[0m\u001b[0;34m\u001b[0m\u001b[0;34m\u001b[0m\u001b[0m\n\u001b[0;32m----> 3\u001b[0;31m \u001b[0mlabel_li\u001b[0m \u001b[0;34m=\u001b[0m \u001b[0;34m[\u001b[0m\u001b[0mfloat\u001b[0m\u001b[0;34m(\u001b[0m\u001b[0ml\u001b[0m\u001b[0;34m.\u001b[0m\u001b[0msplit\u001b[0m\u001b[0;34m(\u001b[0m\u001b[0;34m'_'\u001b[0m\u001b[0;34m)\u001b[0m\u001b[0;34m[\u001b[0m\u001b[0;34m-\u001b[0m\u001b[0;36m1\u001b[0m\u001b[0;34m]\u001b[0m\u001b[0;34m)\u001b[0m \u001b[0;32mfor\u001b[0m \u001b[0ml\u001b[0m \u001b[0;32min\u001b[0m \u001b[0mlabel_folder\u001b[0m \u001b[0;32mif\u001b[0m \u001b[0;32mnot\u001b[0m \u001b[0;34m'csv'\u001b[0m \u001b[0;32min\u001b[0m \u001b[0ml\u001b[0m\u001b[0;34m]\u001b[0m\u001b[0;34m\u001b[0m\u001b[0;34m\u001b[0m\u001b[0m\n\u001b[0m",
      "\u001b[0;32m<ipython-input-34-21af25e1f7f0>\u001b[0m in \u001b[0;36m<listcomp>\u001b[0;34m(.0)\u001b[0m\n\u001b[1;32m      1\u001b[0m \u001b[0mPATH\u001b[0m \u001b[0;34m=\u001b[0m \u001b[0;34m'../04_final_model/example_pre2/'\u001b[0m\u001b[0;34m\u001b[0m\u001b[0;34m\u001b[0m\u001b[0m\n\u001b[1;32m      2\u001b[0m \u001b[0mlabel_folder\u001b[0m \u001b[0;34m=\u001b[0m \u001b[0mos\u001b[0m\u001b[0;34m.\u001b[0m\u001b[0mlistdir\u001b[0m\u001b[0;34m(\u001b[0m\u001b[0mPATH\u001b[0m\u001b[0;34m)\u001b[0m\u001b[0;34m\u001b[0m\u001b[0;34m\u001b[0m\u001b[0m\n\u001b[0;32m----> 3\u001b[0;31m \u001b[0mlabel_li\u001b[0m \u001b[0;34m=\u001b[0m \u001b[0;34m[\u001b[0m\u001b[0mfloat\u001b[0m\u001b[0;34m(\u001b[0m\u001b[0ml\u001b[0m\u001b[0;34m.\u001b[0m\u001b[0msplit\u001b[0m\u001b[0;34m(\u001b[0m\u001b[0;34m'_'\u001b[0m\u001b[0;34m)\u001b[0m\u001b[0;34m[\u001b[0m\u001b[0;34m-\u001b[0m\u001b[0;36m1\u001b[0m\u001b[0;34m]\u001b[0m\u001b[0;34m)\u001b[0m \u001b[0;32mfor\u001b[0m \u001b[0ml\u001b[0m \u001b[0;32min\u001b[0m \u001b[0mlabel_folder\u001b[0m \u001b[0;32mif\u001b[0m \u001b[0;32mnot\u001b[0m \u001b[0;34m'csv'\u001b[0m \u001b[0;32min\u001b[0m \u001b[0ml\u001b[0m\u001b[0;34m]\u001b[0m\u001b[0;34m\u001b[0m\u001b[0;34m\u001b[0m\u001b[0m\n\u001b[0m",
      "\u001b[0;31mValueError\u001b[0m: could not convert string to float: '10.jpg'"
     ]
    }
   ],
   "source": [
    "PATH = '../01_data/PPM_data_aug/'\n",
    "label_folder = os.listdir(PATH)\n",
    "label_li = [float(l.split('_')[-1]) for l in label_folder if not 'csv' in l]"
   ]
  },
  {
   "cell_type": "code",
   "execution_count": 23,
   "id": "702bcffe-b7ae-4f93-8e1a-0ec61f4a3f2a",
   "metadata": {},
   "outputs": [],
   "source": [
    "row, col = 224,224"
   ]
  },
  {
   "cell_type": "code",
   "execution_count": 26,
   "id": "3740557f-1eb4-4ab3-8645-b847a34407cd",
   "metadata": {
    "tags": []
   },
   "outputs": [],
   "source": [
    "img_path_li = list()\n",
    "data_img = [[],[],[]]\n",
    "data_label = [[],[],[]]\n",
    "\n",
    "for label_path in label_folder[:-1]:\n",
    "    label = float(label_path.split('_')[-1])\n",
    "    img_path_tmp = sorted(glob.glob(PATH+label_path+'/*'))\n",
    "#     print('test')\n",
    "    for path in img_path_tmp[-4:]:\n",
    "#         print(path)\n",
    "        img = cv2.resize(cv2.imread(path), (row, col))\n",
    "        data_img[2].append(img)\n",
    "        data_label[2].append(label//10-1)"
   ]
  },
  {
   "cell_type": "code",
   "execution_count": 27,
   "id": "5ea48617-ac1f-4577-8f3d-3b694de03c87",
   "metadata": {},
   "outputs": [
    {
     "name": "stdout",
     "output_type": "stream",
     "text": [
      "(80, 224, 224, 3) (80,)\n"
     ]
    }
   ],
   "source": [
    "test_x, test_y = np.array(data_img[2]), np.array(data_label[2])\n",
    "\n",
    "print(test_x.shape, test_y.shape)"
   ]
  },
  {
   "cell_type": "code",
   "execution_count": 28,
   "id": "e2b4bba7-35fd-4005-b5bd-b6eb1c3303c5",
   "metadata": {},
   "outputs": [],
   "source": [
    "test_x=preprocess_input(test_x)\n",
    "\n",
    "# test_y = test_y/200"
   ]
  },
  {
   "cell_type": "code",
   "execution_count": 29,
   "id": "631a43ca-53ff-4f7a-a98c-2c5484dcc701",
   "metadata": {},
   "outputs": [
    {
     "name": "stdout",
     "output_type": "stream",
     "text": [
      "******************************\n",
      "Best model evaluate\n",
      "******************************\n",
      "[[4 0 0 0 0 0 0 0 0 0 0 0 0 0 0 0 0 0 0 0]\n",
      " [0 4 0 0 0 0 0 0 0 0 0 0 0 0 0 0 0 0 0 0]\n",
      " [0 0 4 0 0 0 0 0 0 0 0 0 0 0 0 0 0 0 0 0]\n",
      " [0 0 0 4 0 0 0 0 0 0 0 0 0 0 0 0 0 0 0 0]\n",
      " [0 0 0 0 4 0 0 0 0 0 0 0 0 0 0 0 0 0 0 0]\n",
      " [0 0 0 0 0 4 0 0 0 0 0 0 0 0 0 0 0 0 0 0]\n",
      " [0 0 0 0 0 0 4 0 0 0 0 0 0 0 0 0 0 0 0 0]\n",
      " [0 0 0 0 0 0 0 4 0 0 0 0 0 0 0 0 0 0 0 0]\n",
      " [0 0 0 0 0 0 0 0 4 0 0 0 0 0 0 0 0 0 0 0]\n",
      " [0 0 0 0 0 0 0 0 0 4 0 0 0 0 0 0 0 0 0 0]\n",
      " [0 0 0 0 0 0 0 0 0 0 4 0 0 0 0 0 0 0 0 0]\n",
      " [0 0 0 0 0 0 0 0 0 0 0 4 0 0 0 0 0 0 0 0]\n",
      " [0 0 0 0 0 0 0 0 0 0 0 0 4 0 0 0 0 0 0 0]\n",
      " [0 0 0 0 0 0 0 0 0 0 0 0 0 4 0 0 0 0 0 0]\n",
      " [0 0 0 0 0 0 0 0 0 0 0 0 0 0 4 0 0 0 0 0]\n",
      " [0 0 0 0 0 0 0 0 0 0 0 0 0 0 0 4 0 0 0 0]\n",
      " [0 0 0 0 0 0 0 0 0 0 0 0 0 0 0 0 4 0 0 0]\n",
      " [0 0 0 0 0 0 0 0 0 0 0 0 0 0 0 0 0 4 0 0]\n",
      " [0 0 0 0 0 0 0 0 0 0 0 0 0 0 0 0 0 0 4 0]\n",
      " [0 0 0 0 0 0 0 0 0 0 0 0 0 0 0 0 0 0 0 4]]\n",
      "1.0\n"
     ]
    }
   ],
   "source": [
    "from sklearn.metrics import confusion_matrix\n",
    "from sklearn.metrics import precision_recall_fscore_support\n",
    "from sklearn.metrics import accuracy_score\n",
    "from sklearn.metrics import recall_score\n",
    "from sklearn.metrics import r2_score\n",
    "\n",
    "model_name = 'class_exp2_vgg16'\n",
    "\n",
    "# model = keras.models.load_model('../{}.h5'.format(model_name))\n",
    "# ypred = model.predict(test_x)\n",
    "# print(model.evaluate(test_x, test_y))\n",
    "# print(\"MSE: %.4f\" % mean_squared_error(test_y, ypred))\n",
    "# print(\"MAE: %.4f\" % mean_absolute_error(test_y, ypred))\n",
    "\n",
    "\n",
    "print('*'*30)\n",
    "print('Best model evaluate')\n",
    "print('*'*30)\n",
    "model_best = keras.models.load_model('../checkpoint/{}.h5'.format(model_name), custom_objects={'recall':recall})\n",
    "ypred_best = model_best.predict(test_x)\n",
    "\n",
    "pred_label=[]\n",
    "for i,v in enumerate(ypred_best):\n",
    "    pre_ans=v.argmax()\n",
    "    pred_label.append(pre_ans)\n",
    "    \n",
    "cm=confusion_matrix(test_y,pred_label)\n",
    "print(cm)\n",
    "acc=accuracy_score(test_y,pred_label)\n",
    "print(acc)\n",
    "\n",
    "# tp,fn,fp,tn=cm.ravel()\n",
    "# # print(tp,fn,fp,tn)\n",
    "\n",
    "# acc=accuracy_score(test_y,pred_label)\n",
    "# sensitivity=tp/(tp+fn)\n",
    "# specificity=tn/(tn+fp)\n",
    "# precision=tp/(tp+fp)\n",
    "# F1_score=2*precision*sensitivity/(precision+sensitivity)\n",
    "\n",
    "# y_pred1=np.load(pred_npy)\n",
    "# # fp,tp,_=roc_curve(test_y,ypred_best[:,1])\n",
    "\n",
    "# print('accuuacy : '+str(acc))\n",
    "# print('sensitivity(recall) : '+str(sensitivity))\n",
    "# print('specificity : '+str(specificity))\n",
    "# print('precision : '+str(precision))\n",
    "# print('F1_score : '+str(F1_score))\n",
    "# # print('AUC score : {}'.format(round(auc(fp,tp),2)))"
   ]
  },
  {
   "cell_type": "code",
   "execution_count": 30,
   "id": "12467cf6-d941-4cc9-8043-874ebadaee13",
   "metadata": {},
   "outputs": [],
   "source": [
    "label_li_str = [str(i) for i in label_li]"
   ]
  },
  {
   "cell_type": "code",
   "execution_count": 31,
   "id": "148006ca-ad90-4337-8e22-c0c413510b3e",
   "metadata": {},
   "outputs": [
    {
     "name": "stdout",
     "output_type": "stream",
     "text": [
      "Confusion Matrix\n",
      "\n",
      "[[4 0 0 0 0 0 0 0 0 0 0 0 0 0 0 0 0 0 0 0]\n",
      " [0 4 0 0 0 0 0 0 0 0 0 0 0 0 0 0 0 0 0 0]\n",
      " [0 0 4 0 0 0 0 0 0 0 0 0 0 0 0 0 0 0 0 0]\n",
      " [0 0 0 4 0 0 0 0 0 0 0 0 0 0 0 0 0 0 0 0]\n",
      " [0 0 0 0 4 0 0 0 0 0 0 0 0 0 0 0 0 0 0 0]\n",
      " [0 0 0 0 0 4 0 0 0 0 0 0 0 0 0 0 0 0 0 0]\n",
      " [0 0 0 0 0 0 4 0 0 0 0 0 0 0 0 0 0 0 0 0]\n",
      " [0 0 0 0 0 0 0 4 0 0 0 0 0 0 0 0 0 0 0 0]\n",
      " [0 0 0 0 0 0 0 0 4 0 0 0 0 0 0 0 0 0 0 0]\n",
      " [0 0 0 0 0 0 0 0 0 4 0 0 0 0 0 0 0 0 0 0]\n",
      " [0 0 0 0 0 0 0 0 0 0 4 0 0 0 0 0 0 0 0 0]\n",
      " [0 0 0 0 0 0 0 0 0 0 0 4 0 0 0 0 0 0 0 0]\n",
      " [0 0 0 0 0 0 0 0 0 0 0 0 4 0 0 0 0 0 0 0]\n",
      " [0 0 0 0 0 0 0 0 0 0 0 0 0 4 0 0 0 0 0 0]\n",
      " [0 0 0 0 0 0 0 0 0 0 0 0 0 0 4 0 0 0 0 0]\n",
      " [0 0 0 0 0 0 0 0 0 0 0 0 0 0 0 4 0 0 0 0]\n",
      " [0 0 0 0 0 0 0 0 0 0 0 0 0 0 0 0 4 0 0 0]\n",
      " [0 0 0 0 0 0 0 0 0 0 0 0 0 0 0 0 0 4 0 0]\n",
      " [0 0 0 0 0 0 0 0 0 0 0 0 0 0 0 0 0 0 4 0]\n",
      " [0 0 0 0 0 0 0 0 0 0 0 0 0 0 0 0 0 0 0 4]]\n",
      "\n",
      "Accuracy: 1.00\n",
      "\n",
      "Micro Precision: 1.00\n",
      "Micro Recall: 1.00\n",
      "Micro F1-score: 1.00\n",
      "\n",
      "Macro Precision: 1.00\n",
      "Macro Recall: 1.00\n",
      "Macro F1-score: 1.00\n",
      "\n",
      "Weighted Precision: 1.00\n",
      "Weighted Recall: 1.00\n",
      "Weighted F1-score: 1.00\n",
      "\n",
      "Classification Report\n",
      "\n",
      "              precision    recall  f1-score   support\n",
      "\n",
      "        10.0       1.00      1.00      1.00         4\n",
      "       100.0       1.00      1.00      1.00         4\n",
      "       110.0       1.00      1.00      1.00         4\n",
      "       120.0       1.00      1.00      1.00         4\n",
      "       130.0       1.00      1.00      1.00         4\n",
      "       140.0       1.00      1.00      1.00         4\n",
      "       150.0       1.00      1.00      1.00         4\n",
      "       160.0       1.00      1.00      1.00         4\n",
      "       170.0       1.00      1.00      1.00         4\n",
      "       180.0       1.00      1.00      1.00         4\n",
      "       190.0       1.00      1.00      1.00         4\n",
      "        20.0       1.00      1.00      1.00         4\n",
      "       200.0       1.00      1.00      1.00         4\n",
      "        30.0       1.00      1.00      1.00         4\n",
      "        40.0       1.00      1.00      1.00         4\n",
      "        50.0       1.00      1.00      1.00         4\n",
      "        60.0       1.00      1.00      1.00         4\n",
      "        70.0       1.00      1.00      1.00         4\n",
      "        80.0       1.00      1.00      1.00         4\n",
      "        90.0       1.00      1.00      1.00         4\n",
      "\n",
      "    accuracy                           1.00        80\n",
      "   macro avg       1.00      1.00      1.00        80\n",
      "weighted avg       1.00      1.00      1.00        80\n",
      "\n"
     ]
    }
   ],
   "source": [
    "confusion = confusion_matrix(test_y,pred_label)\n",
    "print('Confusion Matrix\\n')\n",
    "print(confusion)\n",
    "\n",
    "#importing accuracy_score, precision_score, recall_score, f1_score\n",
    "from sklearn.metrics import accuracy_score, precision_score, recall_score, f1_score\n",
    "print('\\nAccuracy: {:.2f}\\n'.format(accuracy_score(test_y, pred_label)))\n",
    "\n",
    "print('Micro Precision: {:.2f}'.format(precision_score(test_y, pred_label, average='micro')))\n",
    "print('Micro Recall: {:.2f}'.format(recall_score(test_y, pred_label, average='micro')))\n",
    "print('Micro F1-score: {:.2f}\\n'.format(f1_score(test_y, pred_label, average='micro')))\n",
    "\n",
    "print('Macro Precision: {:.2f}'.format(precision_score(test_y, pred_label, average='macro')))\n",
    "print('Macro Recall: {:.2f}'.format(recall_score(test_y, pred_label, average='macro')))\n",
    "print('Macro F1-score: {:.2f}\\n'.format(f1_score(test_y, pred_label, average='macro')))\n",
    "\n",
    "print('Weighted Precision: {:.2f}'.format(precision_score(test_y, pred_label, average='weighted')))\n",
    "print('Weighted Recall: {:.2f}'.format(recall_score(test_y, pred_label, average='weighted')))\n",
    "print('Weighted F1-score: {:.2f}'.format(f1_score(test_y, pred_label, average='weighted')))\n",
    "\n",
    "from sklearn.metrics import classification_report\n",
    "print('\\nClassification Report\\n')\n",
    "print(classification_report(test_y, pred_label, target_names=label_li_str))\n"
   ]
  },
  {
   "cell_type": "code",
   "execution_count": null,
   "id": "86194085-081b-4a77-a95e-6d159693353d",
   "metadata": {},
   "outputs": [],
   "source": []
  }
 ],
 "metadata": {
  "kernelspec": {
   "display_name": "Python 3",
   "language": "python",
   "name": "python3"
  },
  "language_info": {
   "codemirror_mode": {
    "name": "ipython",
    "version": 3
   },
   "file_extension": ".py",
   "mimetype": "text/x-python",
   "name": "python",
   "nbconvert_exporter": "python",
   "pygments_lexer": "ipython3",
   "version": "3.6.13"
  }
 },
 "nbformat": 4,
 "nbformat_minor": 5
}
