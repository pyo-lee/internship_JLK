{
 "cells": [
  {
   "cell_type": "code",
   "execution_count": 72,
   "id": "c7f7a464-b58b-4948-a4f2-a4d872b45778",
   "metadata": {},
   "outputs": [],
   "source": [
    "import os, glob, cv2\n",
    "import numpy as np\n",
    "import pandas as pd\n",
    "import matplotlib.pyplot as plt"
   ]
  },
  {
   "cell_type": "code",
   "execution_count": 73,
   "id": "34a23ddb-cfb5-401e-bb02-b227d8cca7bb",
   "metadata": {
    "tags": []
   },
   "outputs": [
    {
     "name": "stdout",
     "output_type": "stream",
     "text": [
      "******************************\n",
      "Load data\n",
      "******************************\n"
     ]
    }
   ],
   "source": [
    "PATH = './pH_data/pH_data_aug/'\n",
    "label_folder = os.listdir(PATH)\n",
    "label_li = [l.split('_')[-1] for l in label_folder]\n",
    "\n",
    "df = pd.DataFrame()\n",
    "\n",
    "print('*'*30)\n",
    "print('Load data')\n",
    "print('*'*30)\n",
    "for label_path in label_folder:\n",
    "    label = label_path.split('_')[-1]\n",
    "    img_path_tmp = sorted(glob.glob(PATH+label_path+'/*'))\n",
    "#     print('label :',label, 'number :',len(img_path_tmp))\n",
    "    \n",
    "#     print('triain')\n",
    "    for path in img_path_tmp:\n",
    "        if not 'check' in path:\n",
    "            name = path.split('/')[-1][:-4]\n",
    "    #         print(name, label)\n",
    "            df = df.append({'file_name':name, 'label':label}, ignore_index=True)"
   ]
  },
  {
   "cell_type": "code",
   "execution_count": 74,
   "id": "baf16735-d369-47c9-a154-e53c0b82c5eb",
   "metadata": {},
   "outputs": [],
   "source": [
    "df.to_csv('../01_data/PPM_data_aug/data.csv', index=False)"
   ]
  },
  {
   "cell_type": "code",
   "execution_count": 69,
   "id": "8e29e0b9-2fad-4242-bb90-c09904902de1",
   "metadata": {
    "collapsed": true,
    "jupyter": {
     "outputs_hidden": true
    },
    "tags": []
   },
   "outputs": [
    {
     "name": "stdout",
     "output_type": "stream",
     "text": [
      "******************************\n",
      "Load data\n",
      "******************************\n",
      "../01_data/PPM_data/Date_ppm_90/20210825_143301.jpg\n",
      "../01_data/PPM_data/Date_ppm_90/20210825_143311.jpg\n",
      "../01_data/PPM_data/Date_ppm_90/20210825_143320.jpg\n",
      "../01_data/PPM_data/Date_ppm_90/20210825_143333.jpg\n",
      "../01_data/PPM_data/Date_ppm_80/20210825_141538.jpg\n",
      "../01_data/PPM_data/Date_ppm_80/20210825_141549.jpg\n",
      "../01_data/PPM_data/Date_ppm_80/20210825_141601.jpg\n",
      "../01_data/PPM_data/Date_ppm_80/20210825_141610.jpg\n",
      "../01_data/PPM_data/Date_ppm_70/20210825_140557.jpg\n",
      "../01_data/PPM_data/Date_ppm_70/20210825_140605.jpg\n",
      "../01_data/PPM_data/Date_ppm_70/20210825_140616.jpg\n",
      "../01_data/PPM_data/Date_ppm_70/20210825_140627.jpg\n",
      "../01_data/PPM_data/Date_ppm_60/20210824_231210.jpg\n",
      "../01_data/PPM_data/Date_ppm_60/20210824_231221.jpg\n",
      "../01_data/PPM_data/Date_ppm_60/20210824_231232.jpg\n",
      "../01_data/PPM_data/Date_ppm_60/20210824_231246.jpg\n",
      "../01_data/PPM_data/Date_ppm_50/20210824_225649.jpg\n",
      "../01_data/PPM_data/Date_ppm_50/20210824_225657.jpg\n",
      "../01_data/PPM_data/Date_ppm_50/20210824_225706.jpg\n",
      "../01_data/PPM_data/Date_ppm_50/20210824_225715.jpg\n",
      "../01_data/PPM_data/Date_ppm_40/20210824_165749.jpg\n",
      "../01_data/PPM_data/Date_ppm_40/20210824_165800.jpg\n",
      "../01_data/PPM_data/Date_ppm_40/20210824_165810.jpg\n",
      "../01_data/PPM_data/Date_ppm_40/20210824_165824.jpg\n",
      "../01_data/PPM_data/Date_ppm_30/20210824_164519.jpg\n",
      "../01_data/PPM_data/Date_ppm_30/20210824_164531.jpg\n",
      "../01_data/PPM_data/Date_ppm_30/20210824_164543.jpg\n",
      "../01_data/PPM_data/Date_ppm_30/20210824_164556.jpg\n",
      "../01_data/PPM_data/Date_ppm_200/20210826_151453.jpg\n",
      "../01_data/PPM_data/Date_ppm_200/20210826_151457.jpg\n",
      "../01_data/PPM_data/Date_ppm_200/20210826_151501.jpg\n",
      "../01_data/PPM_data/Date_ppm_200/20210826_151505.jpg\n",
      "../01_data/PPM_data/Date_ppm_20/20210824_161813.jpg\n",
      "../01_data/PPM_data/Date_ppm_20/20210824_161826.jpg\n",
      "../01_data/PPM_data/Date_ppm_20/20210824_161839.jpg\n",
      "../01_data/PPM_data/Date_ppm_20/20210824_161855.jpg\n",
      "../01_data/PPM_data/Date_ppm_190/20210826_150654.jpg\n",
      "../01_data/PPM_data/Date_ppm_190/20210826_150702.jpg\n",
      "../01_data/PPM_data/Date_ppm_190/20210826_150711.jpg\n",
      "../01_data/PPM_data/Date_ppm_190/20210826_150721.jpg\n",
      "../01_data/PPM_data/Date_ppm_180/20210826_143249.jpg\n",
      "../01_data/PPM_data/Date_ppm_180/20210826_143259.jpg\n",
      "../01_data/PPM_data/Date_ppm_180/20210826_143314.jpg\n",
      "../01_data/PPM_data/Date_ppm_180/20210826_143325.jpg\n",
      "../01_data/PPM_data/Date_ppm_170/20210826_142122.jpg\n",
      "../01_data/PPM_data/Date_ppm_170/20210826_142129.jpg\n",
      "../01_data/PPM_data/Date_ppm_170/20210826_142144.jpg\n",
      "../01_data/PPM_data/Date_ppm_170/20210826_142154.jpg\n",
      "../01_data/PPM_data/Date_ppm_160/20210826_141330.jpg\n",
      "../01_data/PPM_data/Date_ppm_160/20210826_141342.jpg\n",
      "../01_data/PPM_data/Date_ppm_160/20210826_141350.jpg\n",
      "../01_data/PPM_data/Date_ppm_160/20210826_141359.jpg\n",
      "../01_data/PPM_data/Date_ppm_150/20210826_113604.jpg\n",
      "../01_data/PPM_data/Date_ppm_150/20210826_113615.jpg\n",
      "../01_data/PPM_data/Date_ppm_150/20210826_113625.jpg\n",
      "../01_data/PPM_data/Date_ppm_150/20210826_113636.jpg\n",
      "../01_data/PPM_data/Date_ppm_140/20210826_112251.jpg\n",
      "../01_data/PPM_data/Date_ppm_140/20210826_112301.jpg\n",
      "../01_data/PPM_data/Date_ppm_140/20210826_112312.jpg\n",
      "../01_data/PPM_data/Date_ppm_140/20210826_112325.jpg\n",
      "../01_data/PPM_data/Date_ppm_130/20210826_110959.jpg\n",
      "../01_data/PPM_data/Date_ppm_130/20210826_111009.jpg\n",
      "../01_data/PPM_data/Date_ppm_130/20210826_111019.jpg\n",
      "../01_data/PPM_data/Date_ppm_130/20210826_111031.jpg\n",
      "../01_data/PPM_data/Date_ppm_120/20210826_110141.jpg\n",
      "../01_data/PPM_data/Date_ppm_120/20210826_110147.jpg\n",
      "../01_data/PPM_data/Date_ppm_120/20210826_110157.jpg\n",
      "../01_data/PPM_data/Date_ppm_120/20210826_110206.jpg\n",
      "../01_data/PPM_data/Date_ppm_110/20210826_105026.jpg\n",
      "../01_data/PPM_data/Date_ppm_110/20210826_105035.jpg\n",
      "../01_data/PPM_data/Date_ppm_110/20210826_105044.jpg\n",
      "../01_data/PPM_data/Date_ppm_110/20210826_105100.jpg\n",
      "../01_data/PPM_data/Date_ppm_100/20210825_145954.jpg\n",
      "../01_data/PPM_data/Date_ppm_100/20210825_150009.jpg\n",
      "../01_data/PPM_data/Date_ppm_100/20210825_150023.jpg\n",
      "../01_data/PPM_data/Date_ppm_100/20210825_150037.jpg\n",
      "../01_data/PPM_data/Date_ppm_10/20210824_153017.jpg\n",
      "../01_data/PPM_data/Date_ppm_10/20210824_153031.jpg\n",
      "../01_data/PPM_data/Date_ppm_10/20210824_153044.jpg\n",
      "../01_data/PPM_data/Date_ppm_10/20210824_153102.jpg\n"
     ]
    }
   ],
   "source": [
    "PATH = '../01_data/PPM_data/'\n",
    "label_folder = os.listdir(PATH)\n",
    "label_li = [float(l.split('_')[-1]) for l in label_folder if not 'csv' in l if not 'check' in l]\n",
    "\n",
    "row, col = 224,224\n",
    "img_path_li = list()\n",
    "data_img = [[],[],[]]\n",
    "data_label = [[],[],[]]\n",
    "\n",
    "print('*'*30)\n",
    "print('Load data')\n",
    "print('*'*30)\n",
    "for label_path in label_folder:\n",
    "    label = str(label_path.split('_')[-1])\n",
    "    img_path_tmp = sorted(glob.glob(PATH+label_path+'/*'))\n",
    "\n",
    "#     print('test')\n",
    "    for path in img_path_tmp[-4:]:\n",
    "            print(path)\n",
    "            name = path.split('/')[-1][:-4]\n",
    "            img = cv2.imread(path)\n",
    "            cv2.imwrite('../04_final_model/example/'+name+'_'+label+'.jpg', img)"
   ]
  },
  {
   "cell_type": "code",
   "execution_count": 71,
   "id": "36b9efa8-1929-4213-ab6e-168e896cd2f7",
   "metadata": {},
   "outputs": [
    {
     "name": "stdout",
     "output_type": "stream",
     "text": [
      "******************************\n",
      "Load data\n",
      "******************************\n",
      "../04_final_model/example/20210825_143311_90.jpg\n"
     ]
    }
   ],
   "source": [
    "PATH = '../04_final_model/example/'\n",
    "row, col = 224,224\n",
    "model_name_reg = 'exp2_mae_nor_224_vgg16'\n",
    "model_name_class = 'class_exp2_vgg16'\n",
    "\n",
    "print('*'*30)\n",
    "print('Load data')\n",
    "print('*'*30)\n",
    "\n",
    "img_path_tmp = sorted(glob.glob(PATH+'/*'))\n",
    "print(img_path_tmp[33])"
   ]
  },
  {
   "cell_type": "code",
   "execution_count": null,
   "id": "e91e3081-554b-4528-849a-b4561899d501",
   "metadata": {},
   "outputs": [],
   "source": []
  }
 ],
 "metadata": {
  "kernelspec": {
   "display_name": "Python 3",
   "language": "python",
   "name": "python3"
  },
  "language_info": {
   "codemirror_mode": {
    "name": "ipython",
    "version": 3
   },
   "file_extension": ".py",
   "mimetype": "text/x-python",
   "name": "python",
   "nbconvert_exporter": "python",
   "pygments_lexer": "ipython3",
   "version": "3.6.13"
  }
 },
 "nbformat": 4,
 "nbformat_minor": 5
}
